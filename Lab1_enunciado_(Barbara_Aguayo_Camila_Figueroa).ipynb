{
  "cells": [
    {
      "cell_type": "markdown",
      "metadata": {
        "id": "J4_IcuuKZj9Y",
        "cell_id": "097fce6dce21405c911254a775ae3d26",
        "deepnote_cell_type": "markdown"
      },
      "source": [
        "<h1><center>Laboratorio 1: Git 👾</center></h1>\n",
        "\n",
        "<center><strong>MDS7202: Laboratorio de Programación Científica para Ciencia de Datos - Otoño 2024</strong></center>"
      ]
    },
    {
      "cell_type": "markdown",
      "metadata": {
        "id": "AEXIACc7aADv",
        "cell_id": "9e8e8f2ae34e461da4f44508a96d2cf4",
        "deepnote_cell_type": "markdown"
      },
      "source": [
        "### Cuerpo Docente:\n",
        "\n",
        "- Profesores: Ignacio Meza, Sebastián Tinoco\n",
        "- Auxiliar: Catherine Benavides\n",
        "- Ayudante: Nicolás Ojeda, Eduardo Moya"
      ]
    },
    {
      "cell_type": "markdown",
      "metadata": {
        "id": "0HgMMyoCaG8X",
        "cell_id": "3e5b48c23e1b48f6a64de41899166179",
        "deepnote_cell_type": "markdown"
      },
      "source": [
        "### Equipo: **SUPER IMPORTANTE - notebooks sin nombre no serán revisados**\n",
        "\n",
        "- Nombre de alumno 1: Bárbara Aguayo\n",
        "- Nombre de alumno 2: Camila Figueroa"
      ]
    },
    {
      "cell_type": "markdown",
      "metadata": {
        "id": "fz77X6glaK6y",
        "cell_id": "1db7c82b68614d19b112ba3b0d0abe4d",
        "deepnote_cell_type": "markdown"
      },
      "source": [
        "### **Link de repositorio de GitHub:** `https://github.com/bluemili/MDS7202-Labs`"
      ]
    },
    {
      "cell_type": "markdown",
      "metadata": {
        "id": "rRwqaxIZaNx3",
        "cell_id": "bc3dac65089d4ae6a43c079547dee179",
        "deepnote_cell_type": "markdown"
      },
      "source": [
        "## Reglas:\n",
        "\n",
        "- **Grupos de 2 personas**\n",
        "- Fecha de entrega: 7 días desde la publicación, 3 días de atraso con 1 punto de descuento c/u.\n",
        "- Instrucciones del lab el viernes a las 16:15 en formato online. Asistencia no es obligatoria.\n",
        "- <u>Prohibidas las copias</u>. Cualquier intento de copia será debidamente penalizado con el reglamento de la escuela.\n",
        "- Tienen que subir el laboratorio a u-cursos Y a su repositorio de github. Labs que no estén en u-cursos no serán revisados. Recuerden que el repositorio también tiene nota.\n",
        "- Cualquier duda fuera del horario de clases al foro. Mensajes al equipo docente serán respondidos por este medio.\n",
        "- Pueden usar cualquer material del curso que estimen conveniente."
      ]
    },
    {
      "cell_type": "markdown",
      "metadata": {
        "id": "bmToL27JaSrf",
        "cell_id": "05e4729411a24153837fd13b7f198bd9",
        "deepnote_cell_type": "markdown"
      },
      "source": [
        "## Objetivos del lab:\n",
        "\n",
        "\n",
        "- Conocer los elementos básicos que conformar `Git`\n",
        "- Clonar repositorios\n",
        "- Identificar ramas de un repositorio\n",
        "- Reconocer y solucionar problemas entre ramas\n",
        "- Subir cambios a un repositorio"
      ]
    },
    {
      "cell_type": "markdown",
      "metadata": {
        "id": "bvnPCvrVbJLK",
        "cell_id": "5ebae9d601bd4d508349ab55297e9f82",
        "deepnote_cell_type": "markdown"
      },
      "source": [
        "## Parte 1: Conocimiento Teórico (2.5 pts)\n",
        "\n",
        "<p align=\"center\">\n",
        "  <img src=\"https://cdn.thedesigninspiration.com/wp-content/uploads/sites/3/2019/04/macintosh-hdusersbrittanyloefflerdownloadsanig-1.gif\" width=\"350\">\n",
        "</p>"
      ]
    },
    {
      "cell_type": "markdown",
      "metadata": {
        "id": "JHl-24XnbNLF",
        "cell_id": "627494dba4f84520b3ee8b9cbf58ee79",
        "deepnote_cell_type": "markdown"
      },
      "source": [
        "Responda las siguientes preguntas (0.2 pts c/u):\n",
        "\n",
        "1. ¿Qué es `Git` y cómo se relaciona con el control de versiones?\n",
        "\n",
        "2. Nombre y explique 3 diferencias entre `Git` y `Github`.\n",
        "\n",
        "3. ¿Qué es un `hash` y cómo se representa en un `commit`? De un ejemplo.\n",
        "\n",
        "4. ¿Que elementos componen a la estructura de datos de `Git`?\n",
        "\n",
        "5. ¿Que comandos de `Git` sirven para crear un repositorio y hacer seguimiento a cambios en los archivos?"
      ]
    },
    {
      "cell_type": "markdown",
      "metadata": {
        "id": "2tXCSkf0caG8",
        "cell_id": "6d06c40f429044a298b27c666f51f46f",
        "deepnote_cell_type": "markdown"
      },
      "source": [
        "<code>Escriba sus respuestas acá:</code>\n",
        "\n",
        "\n",
        "1.  <code>Git</code> es un un sistema de control de versiones distribuido (DVCS). Este permite tener un registro detallado de cada versión anterior de un repositorio y  administrarlos. Para este tipo específico de VCS, tanto los clientes como el servidor cuentan con el repositorio, es decir, cada clon es realmente una copia completa de todos los datos. Esto también permite que existan “ramas” realizadas por diferentes usuarios y que todos puedan disponer de las versiones de estas ramas.\n",
        "\n",
        "2.\n",
        "- <code>Github</code> es una plataforma que permite alojar proyectos utilizando el sistema de control de versiones <code>Git</code>\n",
        "- <code>Github</code> posee una interfaz gráfica de fácil acceso a cualquier usuario, a diferencia de <code>Git</code> que es una herramienta de línea de comando\n",
        "- <code>Github</code> posee funcionalidades extras que permiten gestionar repositorios y colaborar con distintos usuarios.\n",
        "\n",
        "\n",
        "3. Un <code>hash</code> corresponde a un identificador único que, en <code>Git</code>, se utiliza para asociar a un blob, un commit o un árbol. En <code>Git</code> se utiliza la función criptográfica SHA-1 y tiene 40 caracteres hexadecimales. Específicamente para identificar a un commit, una menor cantidad de caracteres suele ser suficiente. Ejemplo: `c8b1a62d7299552b0654f930d695b33109214111`\n",
        "\n",
        "\n",
        "4. <code>Git</code> posee una estructura de datos Key-value en base a los siguientes elementos:\n",
        "- <code>Blob</code>: Corresponde a la unidad básica de almacenamiento en Git y representa el contenido de un archivo particular del proyecto en un tiempo determinado.\n",
        "- <code>Tree</code>: Corresponde a la estructura de directorios en <code>Git</code>. Cada árbol hace referencia a bobs o sub-árboles que estén presentes en el directorio respectivo.\n",
        "- <code>Commit</code>: Representan una captura del estado del proyecto en un momento determinado. Cada uno de los commit tiene un identificador o hash único, junto con una referencia al commit anterior, el autor y la fecha en que fue realizado.\n",
        "\n",
        "\n",
        "5. Para crear un repositorio se utiliza:\n",
        "\n",
        "- <code>git init</code>: comando que crea la carpeta .git en el directorio actual.\n",
        "\n",
        "Para realizar seguimiento de los cambios en los archivos, se encuentran los siguientes comandos:\n",
        "- <code>git add</code>: prepara las modificaciones para el próximo commit, es decir, los coloca en estado “staging”.\n",
        "- <code>git commit</code>: permite confirmar los cambios que se encuentran en estado “staging”\n",
        "- <code>git status</code>: permite visualizar el estado actual y los últimos cambios realizados en el repositorio.\n",
        "- <code>git log</code>: permite visualizar el historial de todos los commits realizados.\n"
      ]
    },
    {
      "cell_type": "markdown",
      "metadata": {
        "id": "MACccbP4gU43",
        "cell_id": "ec9855406e324cc98b59e33500faea84",
        "deepnote_cell_type": "markdown"
      },
      "source": [
        "Responda si las siguientes afirmaciones son Verdaderas (V) o Falsas (F). Justifique en **cualquiera** de los casos (0.2 pts c/u):\n",
        "\n",
        "\n",
        "6. `Git` siempre resuelve automáticamente los problemas de lineas al hacer merge entre diferentes ramas.\n",
        "7. Ejecutar `git pull` sobre un repositorio es equivalente a ejecutar `git clone`.\n",
        "8. `git status` genera los mismos resultados que `git log`.\n",
        "9. En `Git` es posible deshacer cambios y volver a versiones anteriores del código.\n",
        "10. El comando `git commit` se utiliza para enviar cambios al repositorio remoto."
      ]
    },
    {
      "cell_type": "markdown",
      "metadata": {
        "id": "DFnmCToOgeM3",
        "cell_id": "7e6a5a6e15b045cc9d104cf017825f1a",
        "deepnote_cell_type": "markdown"
      },
      "source": [
        "<code>Escriba sus respuestas acá:</code>\n",
        "\n",
        "6. <code>Falso</code>: No siempre es automático, se deben resolver de forma manual los conflictos.\n",
        "7. <code>Falso</code>: Las dos comandos realizan acciones distintas. <code>git clone</code> permite clonar el repositorio, mientras que <code>git pull</code> permite actualizar el repositorio de forma local.\n",
        "8. <code>Falso</code>: Las dos comandos generan resultados distintos. <code>git status</code> muestra el estado actual del repositorio, mientras que <code>git log</code> el registro de cambios.\n",
        "9. <code>Verdadero</code>: Es posible deshacer cambios y volver a versiones anteriores utilizando comandos como <code>git reset</code> o <code>git revert</code>.\n",
        "10. <code>Falso</code>: <code>git commit</code> se utiliza para confirmar los cambios en el repositorio local, no para enviar cambios al repositorio remoto. En cambio, <code>git push</code> permite enviar y actualizar los cambios en el repositorio remoto."
      ]
    },
    {
      "cell_type": "markdown",
      "metadata": {
        "cell_id": "54317cad024744ebaf4938df55ba3b95",
        "deepnote_cell_type": "markdown",
        "id": "LYq55sI2Rjf0"
      },
      "source": [
        "Por último, investigue y comente para qué sirven los siguientes comandos:\n",
        "\n",
        "11. `git stash` (0.25 puntos)\n",
        "\n",
        "Este comando permite almacenar temporalmente los cambios realizados en un archivo de forma local, sin necesidad de hacer un commit. Esto resulta útil cuando se necesita cambiar de rama o trabajar en otra cosa para luego regresar y aplicar los cambios que fueron guardados en staches temporales. Algunos comandos utiles son:\n",
        "- `git stash`: para guardar cambios en un stash\n",
        "- `git stash apply`: para aplicar en el directorio actual, los cambios que fueron guardados anteriormente en el stash\n",
        "- `git stash list`: para ver la lista de los stashes guardados\n",
        "\n",
        "\n",
        "12. `git reset`. ¿Cuál es la diferencia de este comando con `git revert`?. (0.25 puntos)\n",
        "\n",
        "El comando `git reset` se utiliza para deshacer cambios en el estado del repositorio local. El propósito principal que tiene es mover el puntero HEAD y, opcionalmente, cambiar el estado “staging” o estado del directorio de trabajo. Se puede utilizar de varias formas:\n",
        "- `git reset --soft`: mueve el HEAD al commit especificado, pero deja los cambios realizados en “staging”.\n",
        "- `git reset --mixed`: mueve el HEAD al commit especificado, pero deja los cambios en el directorio de trabajo.\n",
        "- `git reset --hard`: mueve el HEAD y restablece tanto los cambios que están en “staging” como el directorio de trabajo al estado del commit especificado.\n",
        "\n",
        "La diferencia entre `git reset` y `git revert` radica en el registro del historial, `git revert` también permite deshacer los cambios introducidos por uno o más commits anteriores, pero a diferencia de `git reset`, lo hace creando un nuevo commit.\n"
      ]
    },
    {
      "cell_type": "markdown",
      "metadata": {
        "id": "i7Em9JkbbRLo",
        "cell_id": "3e4d8b9974e4426ca38fd20f4b835a55",
        "deepnote_cell_type": "markdown"
      },
      "source": [
        "## Parte 2: Creando una presentación personal (1.5 pts)\n",
        "\n",
        "<p align=\"center\">\n",
        "  <img src=\"https://media.tenor.com/arqlNu8gyJYAAAAC/cat-cat-jumping.gif\" width=\"150\">\n",
        "</p>\n",
        "\n"
      ]
    },
    {
      "cell_type": "markdown",
      "metadata": {
        "id": "XWIHfyrlbYOJ",
        "cell_id": "988648005dba4b9782c6625dfe6ae4ef",
        "deepnote_cell_type": "markdown"
      },
      "source": [
        "Para empezar a \"*soltar las manos*\" con `Git`, se les encomienda crear un repositorio con una presentación personal. El repositorio debe contener un breve resumen de quienes son ustedes, sus gustos, experiencias, y cualquier otro detalle interesante que ustedes consideren relevante.\n",
        "\n",
        "Para realizar esto, deben seguir los siguientes pasos:\n",
        "\n",
        "1. Contar con una cuenta de github (1 por persona)\n",
        "2. Crear un repositorio con su nombre de usuario\n",
        "3. Vincular el repositorio a su ambiente local ¿Qué comando(s) me permiten hacer esto?\n",
        "4. Crear un archivo `readme.md` con la información que ustedes deseen compartir.\n",
        "5. Realizar `push` con los cambios generados\n",
        "\n",
        "A modo de ejemplo, pueden guiarse por esta *suculenta* [presentación](https://github.com/Mezosky)\n",
        "\n",
        "**Nota: Deben trabajar todos estos puntos desde su ambiente local**\n",
        "\n",
        "*Hint: Una buena opción es usar templates de presentación personal que encuentren en Google, como los que ofrece este [sitio](https://durgeshsamariya.github.io/awesome-github-profile-readme-templates/#/)*.\n",
        "\n",
        "**Entregable:**\n",
        "\n",
        "Enlace al repositorio con la presentación personal.\n",
        "\n",
        "IMPORTANTE: DEBEN ADJUNTAR UN ENLACE POR PERSONA"
      ]
    },
    {
      "cell_type": "markdown",
      "metadata": {
        "id": "IIkWyl9tf0Sg",
        "cell_id": "081b38d55dc54282bc8e3cd300ce9d3e",
        "deepnote_cell_type": "markdown"
      },
      "source": [
        "<code>Link Presentacion 1: https://github.com/bbra8aguayo\n",
        "</code>\n",
        "\n",
        "<code>Link Presentacion 2: https://github.com/bluemili </code>"
      ]
    },
    {
      "cell_type": "markdown",
      "metadata": {
        "id": "CAzXOwvDY-IG",
        "cell_id": "0481a05d2d1a46928f6cfb7762720980",
        "deepnote_cell_type": "markdown"
      },
      "source": [
        "## Parte 3: Trabajando sobre un repositorio externo (2 pts)\n",
        "\n",
        "<p align=\"center\">\n",
        "  <img src=\"https://media.tenor.com/YXL-0SK15j4AAAAC/dance-animals.gif\" width=\"300\">\n",
        "</p>\n",
        "\n",
        "Tras muchos dolores de cabeza, un grupo de entusiastas académicos decidieron aprender sobre `Git` y así trabajar colaborativamente de forma más ordenada y eficiente. Después de una infinidad de intentos y aprender de sus errores \"*a la mala*\", los académicos lograron levantar un [repositorio](https://github.com/MDS7202/lab1) en `Github`. Usando el repositorio de los académicos, responda las siguientes preguntas (**incluya también los comandos en `Git` ocupados**):\n"
      ]
    },
    {
      "cell_type": "markdown",
      "metadata": {
        "id": "BFRnAw0rfguR",
        "cell_id": "bcef73b2e8604579bde90ed6622abfe9",
        "deepnote_cell_type": "markdown"
      },
      "source": [
        "1. Clone el repositorio a su ambiente local. (0.25 pts)"
      ]
    },
    {
      "cell_type": "markdown",
      "metadata": {
        "id": "KXro32yBeilN",
        "cell_id": "5d126ac3819c44479af94d3895bc4c97",
        "deepnote_cell_type": "markdown"
      },
      "source": [
        "<code>git clone https://github.com/MDS7202/lab1.git</code>"
      ]
    },
    {
      "cell_type": "markdown",
      "metadata": {
        "cell_id": "e215e4e25b2440f09ac273ba63603986",
        "deepnote_cell_type": "markdown",
        "id": "8QB-GKmQRjf1"
      },
      "source": [
        "2. Descomprima los archivos subidos con la tarea en U-cursos en la carpeta recién clonada de github. Una vez realizado esto, cree un archivo `.gitignore` con el cual omita la carpeta `videos` y los archivos con la extensión `.txt` exceptuando el archivo `171.txt` de la carpeta `texts`. (0.25 pts)"
      ]
    },
    {
      "cell_type": "markdown",
      "metadata": {
        "cell_id": "186233b44d004e3bbd86262d010188b5",
        "deepnote_cell_type": "markdown",
        "id": "7VJ8IIYpRjf1"
      },
      "source": [
        "<code>Para esta pregunta usted deberá adjuntar el .gitignore creado en su repo.</code>\n",
        "\n",
        "En el archivo .gitignore se coloca lo siguiente:\n",
        "\n",
        "videos/\n",
        "\n",
        "*.txt\n",
        "\n",
        "!texts/171.txt\n",
        "\n",
        "\n",
        "Se adjunta en la tarea el archivo .gitignore igualmente.\n"
      ]
    },
    {
      "cell_type": "markdown",
      "metadata": {
        "id": "q2qmiDyjt2M_",
        "cell_id": "1de150590a41484a988b8e46616a2324",
        "deepnote_cell_type": "markdown"
      },
      "source": [
        "3. Inspeccione brevemente el repositorio: ¿Cual es el objetivo del proyecto? Explique brevemente la estructura del proyecto, asi como también cada elemento que lo conforma. (0.25 pts)"
      ]
    },
    {
      "cell_type": "markdown",
      "metadata": {
        "id": "aBHpR8VTftkT",
        "cell_id": "082ca01c865e48e28352b280400c47b6",
        "deepnote_cell_type": "markdown"
      },
      "source": [
        "<code>Escriba sus respuestas acá:</code>\n",
        "\n",
        "El proyecto está conformado por un archivo readme.md que indica que el proyecto es para emular los sonidos de animales.\n",
        "\n",
        "Además se incluyen 2 archivos .py\n",
        "- `animales.py` contiene la función ‘animalitos’ que dependiendo del input ya se\n",
        "‘gato’ o ‘perro’ indica el sonido del animal, en caso de que el input sea ‘fox’ arroja un enlace de youtube, y en cualquier otro caso arroja un error.\n",
        "- `main.py` está diseñado de forma tal que al llamar a este archivo, el usuario tenga que ingresar el nombre de un animalito para que luego el programa arroje el sonido de este según la función ‘animales’."
      ]
    },
    {
      "cell_type": "markdown",
      "metadata": {
        "id": "XFwqcpLZfylf",
        "cell_id": "3aab4a3ee0c246e1be955680ad653fb8",
        "deepnote_cell_type": "markdown"
      },
      "source": [
        "4. Identifique los últimos cambios al repositorio, reconociendo las principales ramas de trabajo. ¿Son informativos los `commit` realizados? (0.25 pts)\n",
        "*Hint: Se recomienda usar los argumentos `all`, `graph` y `decorate`*"
      ]
    },
    {
      "cell_type": "markdown",
      "metadata": {
        "id": "cmWfXBkOhog0",
        "cell_id": "0fab79a360ac4c6a9ca0ab884f85c7e1",
        "deepnote_cell_type": "markdown"
      },
      "source": [
        "<code>Escriba sus respuestas acá:</code>\n",
        "\n",
        "Se utiliza el comando\n",
        "<code>git log --all --graph --decorate</code>\n",
        "\n",
        "El grafo muestra los siguientes commits:\n",
        "\n",
        "*   primer commit\n",
        "*   se agrega funcion\n",
        "*   fix ifs\n",
        "*   se separa el proyecto en modulos\n",
        "\n",
        "De acuerdo a esto, se considera que los commits no son lo suficientemente informativos, debido a que no se especifica realmente los cambios que se realizaron. Por ejemplo, el mensaje \"primer commit\" no especifica lo que se agregó ni los archivos modificados y en el segundo commit no se explica qué función fue la que se agregó. Tampoco hay una convención en cuanto al idioma de los commits, dado que hay uno que está en inglés y los demás están en español."
      ]
    },
    {
      "cell_type": "markdown",
      "metadata": {
        "id": "Vqbj9HdXrUnN",
        "cell_id": "d07b24d21f2343fb9a7e6a5db74e98c3",
        "deepnote_cell_type": "markdown"
      },
      "source": [
        "5. Uno de los académicos se da cuenta que la rama principal de trabajo no se ejecuta correctamente para todos los argumentos. Señale y explique el error en el código e identifique a la persona que lo cometió usando `git blame` (0.25 pts)\n",
        "\n",
        "*Hint: Le puede ser útil esta [documentación](https://www.atlassian.com/es/git/tutorials/inspecting-a-repository/git-blame).*"
      ]
    },
    {
      "cell_type": "markdown",
      "metadata": {
        "id": "5ajhV2Iar3tV",
        "cell_id": "bc5b0f9c639643108f8e66687b721732",
        "deepnote_cell_type": "markdown"
      },
      "source": [
        "<code>Escriba sus respuestas acá:</code>\n",
        "\n",
        "El problema se encuentra en la función \"animales\", que al ser invocada con los strings \"gato\" o \"perro\", arroja incorrectamente un `ValueError`. Esto ocurre porque la función utiliza varios `if` en lugar de `elif` para las comprobaciones consecutivas. En consecuencia, la condición `else` se asocia únicamente con el último `if` (el que verifica \"fox\"), ignorando las condiciones anteriores. Por lo tanto, cuando se cumplen las condiciones para \"gato\" o \"perro\", el flujo pasa igualmente por el último `if` (de \"fox\"), y al no cumplirse, ocurre el `ValueError`. La solución es emplear `elif` para las comprobaciones después del primer `if`, asegurando que el `else` solo se ejecute si ninguna de las condiciones previas no se ha cumplido.\n",
        "\n",
        "Utilizando `git blame` se identificó al usuario \"mezosky\" como la persona que cometió el error.\n",
        "\n",
        "\n",
        "`Obs`: Pese a esto, se menciona que puede ser incorrecto, dado que observando los commits anteriores, se logró visualizar que la función \"animales\" fue creada inicialmente en el archivo `main.py` por el usuario \"seba\", mientras que \"mezosky\" únicamente copió esa función y creó el archivo \"animales.py\" donde la pegó.\n"
      ]
    },
    {
      "cell_type": "markdown",
      "metadata": {
        "id": "m8J3uE7MhqTA",
        "cell_id": "f3f4e78e6d9145ebbb120c0a2e4aade6",
        "deepnote_cell_type": "markdown"
      },
      "source": [
        "6. Busque los siguientes `commit`:\n",
        "\n",
        "- `c8b1a62d7299552b0654f930d695b33109214111`\n",
        "- `362fe21ee44f53ee944cee4ba484600308f83d78`\n",
        "- `25543a3baf77292baf849726784ca005473acab1`\n",
        "\n",
        "¿Qué diferencias existen entre cada uno? (0.25 pts)"
      ]
    },
    {
      "cell_type": "markdown",
      "metadata": {
        "id": "sNHnZsgIitGh",
        "cell_id": "696ed361ac0c41c8a214cfad9dcb39e6",
        "deepnote_cell_type": "markdown"
      },
      "source": [
        "<code>Escriba sus respuestas acá:</code>\n",
        "\n",
        "La mayor diferencia es que cada uno de los commit es realizado por un persona diferente en tiempos distintos. Luego podemos ver lo que se realiza en cada uno:\n",
        "\n",
        "En el primero <code>c8b1a62d7299552b0654f930d695b33109214111</code> seba realiza la función animales junto con el ejecutor en el mismo archivo main.py\n",
        "\n",
        "En el segundo <code>362fe21ee44f53ee944cee4ba484600308f83d78</code> mezosky separa el proyecto en los archivos animales.py y main.py escritos anteriormente por seba\n",
        "\n",
        "Por último en el tercer commit <code>25543a3baf77292baf849726784ca005473acab1</code> el usuario Pablo Badilla arregla la función animales escrita inicialmente por seba en el archivo main.py\n",
        "\n"
      ]
    },
    {
      "cell_type": "markdown",
      "metadata": {
        "id": "WQIPbfNCgpxC",
        "cell_id": "b4e18f8ce94c430f85915c4e2732d05b",
        "deepnote_cell_type": "markdown"
      },
      "source": [
        "7. Realice una `merge` de la rama `fix-ifs` con la rama `main` y describa lo que ocurre. ¿Qué parte del código podría estar ocasionando esto? (0.25 pts)"
      ]
    },
    {
      "cell_type": "markdown",
      "metadata": {
        "id": "ypH_6lL5ioZz",
        "cell_id": "36da6a0d4f4a427bbccac09e2ae965fd",
        "deepnote_cell_type": "markdown"
      },
      "source": [
        "<code>Escriba sus respuestas acá:</code>\n",
        "\n",
        "Al intentar realizar merge de la rama `fix-ifs` con la rama `main`, esta acción falla debido a que tira error. Esto puede estar ocurriendo debido a que los cambios realizados en esta rama ocurrieron a partir de la versión donde aun no se separaban los modulos \"main.py\" y \"animales.py\", por lo que la función animales fue editada en el archivo \"main.py\" y no en \"animales. py\"."
      ]
    },
    {
      "cell_type": "markdown",
      "metadata": {
        "id": "GYfODCjeivkU",
        "cell_id": "09787ab449c543479e5cc54c2a3b6c19",
        "deepnote_cell_type": "markdown"
      },
      "source": [
        "8. Cree una rama nueva y proponga una solución al problema anterior, adjuntando el código corregido y señalando las líneas modificadas. (0.25 pts)"
      ]
    },
    {
      "cell_type": "markdown",
      "metadata": {
        "id": "8heBxDU9iziT",
        "cell_id": "6d963fba3f2d4c17a4b281c7d3f4fb8b",
        "deepnote_cell_type": "markdown"
      },
      "source": [
        "<code>Escriba sus respuestas acá:</code>\n",
        "\n",
        "Se crea una nueva rama bugfix/fix-ifs.\n",
        "\n",
        "La propuesta de solución es arreglar la función animales del archivo animales.py sustituyendo el segundo y tercer if por elif, de la siguiente manera:"
      ]
    },
    {
      "cell_type": "code",
      "source": [
        "def animales(input):\n",
        "\n",
        "    '''\n",
        "    Como hace el animalito?\n",
        "    '''\n",
        "\n",
        "    if input.lower() == 'gato':\n",
        "        print('miau')\n",
        "    elif input.lower() == 'perro':\n",
        "        print('guau')\n",
        "    elif input.lower() == 'fox':\n",
        "        print('https://www.youtube.com/watch?v=jofNR_WkoCE')\n",
        "    else:\n",
        "        raise ValueError('animal no reconocido :(')"
      ],
      "metadata": {
        "id": "kkU76rA1Xb8p"
      },
      "execution_count": null,
      "outputs": []
    },
    {
      "cell_type": "markdown",
      "source": [
        "Luego, es posible realizar el merge entre la nueva rama bugfix/fix-ifs con main para solucionar el problema"
      ],
      "metadata": {
        "id": "pQIXHyG8YxXq"
      }
    },
    {
      "cell_type": "markdown",
      "metadata": {
        "id": "Av8ebB9jkALO",
        "cell_id": "8a47d4bf8b3045d68e4f29bb449c87f1",
        "deepnote_cell_type": "markdown"
      },
      "source": [
        "## Fin"
      ]
    },
    {
      "cell_type": "markdown",
      "metadata": {
        "id": "aQqZT9fSkBK8",
        "cell_id": "cec4b53942ed489f8f8b63d0e9d4f3e5",
        "deepnote_cell_type": "markdown"
      },
      "source": [
        "Eso ha sido todo por ahora!! Esperamos que este laboratorio les haya gustado y servido para trabajar con `Git`. Recuerden los dias de plazo que tienen disponibles y que ante cualquier duda no duden en contactar al equipo docente.\n",
        "\n",
        "Nos vemos!!\n",
        "\n",
        "<p align=\"center\">\n",
        "  <img src=\"https://media.tenor.com/OYLdav9k9LkAAAAd/kitty-cat.gif\" width=\"350\">\n",
        "</p>\n"
      ]
    }
  ],
  "nbformat": 4,
  "nbformat_minor": 0,
  "metadata": {
    "deepnote_notebook_id": "62cd20d52b9a4810ada15644630456dc",
    "deepnote_execution_queue": [],
    "colab": {
      "provenance": [],
      "toc_visible": true
    },
    "language_info": {
      "name": "python"
    },
    "kernelspec": {
      "name": "python3",
      "display_name": "Python 3"
    }
  }
}